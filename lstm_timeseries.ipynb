{
  "nbformat": 4,
  "nbformat_minor": 0,
  "metadata": {
    "colab": {
      "name": "lstm_timeseries.ipynb",
      "provenance": [],
      "collapsed_sections": [],
      "authorship_tag": "ABX9TyPVo2rn1hTXWRSEng/WOE7X",
      "include_colab_link": true
    },
    "kernelspec": {
      "name": "python3",
      "display_name": "Python 3"
    },
    "language_info": {
      "name": "python"
    }
  },
  "cells": [
    {
      "cell_type": "markdown",
      "metadata": {
        "id": "view-in-github",
        "colab_type": "text"
      },
      "source": [
        "<a href=\"https://colab.research.google.com/github/JAGUAR1617/LSTM-timeseries/blob/main/lstm_timeseries.ipynb\" target=\"_parent\"><img src=\"https://colab.research.google.com/assets/colab-badge.svg\" alt=\"Open In Colab\"/></a>"
      ]
    },
    {
      "cell_type": "code",
      "metadata": {
        "id": "mx5IGho9pblZ"
      },
      "source": [
        ""
      ],
      "execution_count": null,
      "outputs": []
    },
    {
      "cell_type": "code",
      "metadata": {
        "colab": {
          "base_uri": "https://localhost:8080/"
        },
        "id": "bpcQUfh8pgnT",
        "outputId": "5d326513-c867-4538-abe2-6a75f327daf8"
      },
      "source": [
        "from google.colab import drive\n",
        "drive.mount('/content/drive')"
      ],
      "execution_count": 1,
      "outputs": [
        {
          "output_type": "stream",
          "name": "stdout",
          "text": [
            "Mounted at /content/drive\n"
          ]
        }
      ]
    },
    {
      "cell_type": "code",
      "metadata": {
        "id": "iA44_51lpcf9"
      },
      "source": [
        "\n",
        "# LSTM for international airline passengers problem with window regression framing\n",
        "import numpy\n",
        "import matplotlib.pyplot as plt\n",
        "from pandas import read_csv\n",
        "import math\n",
        "from keras.models import Sequential\n",
        "from keras.layers import Dense\n",
        "from keras.layers import LSTM\n",
        "from sklearn.preprocessing import MinMaxScaler\n",
        "from sklearn.metrics import mean_squared_error\n"
      ],
      "execution_count": 30,
      "outputs": []
    },
    {
      "cell_type": "code",
      "metadata": {
        "id": "KnAKpSlcp013"
      },
      "source": [
        "# convert an array of values into a dataset matrix\n",
        "def create_dataset(dataset, look_back=1):\n",
        "\tdataX, dataY = [], []\n",
        "\tfor i in range(len(dataset)-look_back-1):\n",
        "\t\ta = dataset[i:(i+look_back), 0]\n",
        "\t\tdataX.append(a)\n",
        "\t\tdataY.append(dataset[i + look_back, 0])\n",
        "\treturn numpy.array(dataX), numpy.array(dataY)\n"
      ],
      "execution_count": 31,
      "outputs": []
    },
    {
      "cell_type": "code",
      "metadata": {
        "id": "xq6hqxv3qFu0"
      },
      "source": [
        "# fix random seed for reproducibility\n",
        "numpy.random.seed(7)\n",
        "\n"
      ],
      "execution_count": 40,
      "outputs": []
    },
    {
      "cell_type": "code",
      "metadata": {
        "id": "Zz6F8zozwNTJ"
      },
      "source": [
        "# load the dataset\n",
        "dataset = [110,125,133,146,158,172,187,196,210]\n",
        "arr = numpy.array(dataset)\n",
        "dataset = numpy.reshape(arr, (arr.shape[0], 1))"
      ],
      "execution_count": 46,
      "outputs": []
    },
    {
      "cell_type": "code",
      "metadata": {
        "id": "X_K3HVYFwUQB"
      },
      "source": [
        "X, y = create_dataset(dataset, 3)\n"
      ],
      "execution_count": 47,
      "outputs": []
    },
    {
      "cell_type": "code",
      "metadata": {
        "colab": {
          "base_uri": "https://localhost:8080/"
        },
        "id": "tAOdO5w1wUSn",
        "outputId": "da44f1dc-4122-411c-e664-61469f7f1049"
      },
      "source": [
        "X, y"
      ],
      "execution_count": 48,
      "outputs": [
        {
          "output_type": "execute_result",
          "data": {
            "text/plain": [
              "(array([[110, 125, 133],\n",
              "        [125, 133, 146],\n",
              "        [133, 146, 158],\n",
              "        [146, 158, 172],\n",
              "        [158, 172, 187]]), array([146, 158, 172, 187, 196]))"
            ]
          },
          "metadata": {},
          "execution_count": 48
        }
      ]
    },
    {
      "cell_type": "code",
      "metadata": {
        "colab": {
          "base_uri": "https://localhost:8080/"
        },
        "id": "koLT_CPHwUVa",
        "outputId": "c361f60b-5f1d-4ef3-86b8-366eb3e0b271"
      },
      "source": [
        "X.shape"
      ],
      "execution_count": 49,
      "outputs": [
        {
          "output_type": "execute_result",
          "data": {
            "text/plain": [
              "(5, 3)"
            ]
          },
          "metadata": {},
          "execution_count": 49
        }
      ]
    },
    {
      "cell_type": "code",
      "metadata": {
        "id": "UPH1m-S7w45a"
      },
      "source": [
        "n_features = 1\n",
        "X = X.reshape((X.shape[0], X.shape[1], n_features))"
      ],
      "execution_count": 50,
      "outputs": []
    },
    {
      "cell_type": "code",
      "metadata": {
        "colab": {
          "base_uri": "https://localhost:8080/"
        },
        "id": "INjFpoL4w48A",
        "outputId": "2981355a-5338-46ed-b2d0-129ce53b5668"
      },
      "source": [
        "y.shape"
      ],
      "execution_count": 51,
      "outputs": [
        {
          "output_type": "execute_result",
          "data": {
            "text/plain": [
              "(5,)"
            ]
          },
          "metadata": {},
          "execution_count": 51
        }
      ]
    },
    {
      "cell_type": "code",
      "metadata": {
        "colab": {
          "base_uri": "https://localhost:8080/"
        },
        "id": "ZmuJPjsUw4-t",
        "outputId": "fad5ea51-2327-4d05-9e25-f5116a2c5c9f"
      },
      "source": [
        "# define model\n",
        "model = Sequential()\n",
        "model.add(LSTM(50, activation='relu', return_sequences=True, input_shape=(3, 1)))\n",
        "model.add(LSTM(50, activation='relu'))\n",
        "model.add(Dense(1))\n",
        "model.compile(optimizer='adam', loss='mse')\n",
        "# fit model\n",
        "model.fit(X, y, epochs=50, verbose=1)"
      ],
      "execution_count": 53,
      "outputs": [
        {
          "output_type": "stream",
          "name": "stdout",
          "text": [
            "Epoch 1/50\n",
            "1/1 [==============================] - 2s 2s/step - loss: 27799.0000\n",
            "Epoch 2/50\n",
            "1/1 [==============================] - 0s 12ms/step - loss: 27003.3711\n",
            "Epoch 3/50\n",
            "1/1 [==============================] - 0s 11ms/step - loss: 26271.5410\n",
            "Epoch 4/50\n",
            "1/1 [==============================] - 0s 8ms/step - loss: 25602.5410\n",
            "Epoch 5/50\n",
            "1/1 [==============================] - 0s 8ms/step - loss: 24952.5684\n",
            "Epoch 6/50\n",
            "1/1 [==============================] - 0s 12ms/step - loss: 24280.0156\n",
            "Epoch 7/50\n",
            "1/1 [==============================] - 0s 10ms/step - loss: 23549.1348\n",
            "Epoch 8/50\n",
            "1/1 [==============================] - 0s 12ms/step - loss: 22726.2695\n",
            "Epoch 9/50\n",
            "1/1 [==============================] - 0s 13ms/step - loss: 21814.5625\n",
            "Epoch 10/50\n",
            "1/1 [==============================] - 0s 13ms/step - loss: 20887.0469\n",
            "Epoch 11/50\n",
            "1/1 [==============================] - 0s 18ms/step - loss: 20014.7500\n",
            "Epoch 12/50\n",
            "1/1 [==============================] - 0s 10ms/step - loss: 19207.7480\n",
            "Epoch 13/50\n",
            "1/1 [==============================] - 0s 10ms/step - loss: 18438.0527\n",
            "Epoch 14/50\n",
            "1/1 [==============================] - 0s 12ms/step - loss: 17677.8203\n",
            "Epoch 15/50\n",
            "1/1 [==============================] - 0s 11ms/step - loss: 16910.7520\n",
            "Epoch 16/50\n",
            "1/1 [==============================] - 0s 16ms/step - loss: 16134.0986\n",
            "Epoch 17/50\n",
            "1/1 [==============================] - 0s 16ms/step - loss: 15349.7246\n",
            "Epoch 18/50\n",
            "1/1 [==============================] - 0s 15ms/step - loss: 14557.7266\n",
            "Epoch 19/50\n",
            "1/1 [==============================] - 0s 16ms/step - loss: 13756.1016\n",
            "Epoch 20/50\n",
            "1/1 [==============================] - 0s 10ms/step - loss: 12934.5781\n",
            "Epoch 21/50\n",
            "1/1 [==============================] - 0s 10ms/step - loss: 12078.3525\n",
            "Epoch 22/50\n",
            "1/1 [==============================] - 0s 9ms/step - loss: 11165.8730\n",
            "Epoch 23/50\n",
            "1/1 [==============================] - 0s 8ms/step - loss: 10174.7715\n",
            "Epoch 24/50\n",
            "1/1 [==============================] - 0s 7ms/step - loss: 9107.4873\n",
            "Epoch 25/50\n",
            "1/1 [==============================] - 0s 9ms/step - loss: 7974.2139\n",
            "Epoch 26/50\n",
            "1/1 [==============================] - 0s 9ms/step - loss: 6753.3135\n",
            "Epoch 27/50\n",
            "1/1 [==============================] - 0s 19ms/step - loss: 5526.7178\n",
            "Epoch 28/50\n",
            "1/1 [==============================] - 0s 12ms/step - loss: 4339.6587\n",
            "Epoch 29/50\n",
            "1/1 [==============================] - 0s 16ms/step - loss: 3148.9792\n",
            "Epoch 30/50\n",
            "1/1 [==============================] - 0s 8ms/step - loss: 1908.2721\n",
            "Epoch 31/50\n",
            "1/1 [==============================] - 0s 8ms/step - loss: 843.8578\n",
            "Epoch 32/50\n",
            "1/1 [==============================] - 0s 14ms/step - loss: 249.9984\n",
            "Epoch 33/50\n",
            "1/1 [==============================] - 0s 13ms/step - loss: 20.3434\n",
            "Epoch 34/50\n",
            "1/1 [==============================] - 0s 13ms/step - loss: 116.8269\n",
            "Epoch 35/50\n",
            "1/1 [==============================] - 0s 13ms/step - loss: 344.2103\n",
            "Epoch 36/50\n",
            "1/1 [==============================] - 0s 14ms/step - loss: 490.4275\n",
            "Epoch 37/50\n",
            "1/1 [==============================] - 0s 16ms/step - loss: 487.4908\n",
            "Epoch 38/50\n",
            "1/1 [==============================] - 0s 17ms/step - loss: 356.0116\n",
            "Epoch 39/50\n",
            "1/1 [==============================] - 0s 24ms/step - loss: 269.2018\n",
            "Epoch 40/50\n",
            "1/1 [==============================] - 0s 12ms/step - loss: 177.0138\n",
            "Epoch 41/50\n",
            "1/1 [==============================] - 0s 29ms/step - loss: 109.1476\n",
            "Epoch 42/50\n",
            "1/1 [==============================] - 0s 15ms/step - loss: 88.8353\n",
            "Epoch 43/50\n",
            "1/1 [==============================] - 0s 14ms/step - loss: 69.2647\n",
            "Epoch 44/50\n",
            "1/1 [==============================] - 0s 12ms/step - loss: 48.3634\n",
            "Epoch 45/50\n",
            "1/1 [==============================] - 0s 15ms/step - loss: 29.8248\n",
            "Epoch 46/50\n",
            "1/1 [==============================] - 0s 12ms/step - loss: 16.9630\n",
            "Epoch 47/50\n",
            "1/1 [==============================] - 0s 24ms/step - loss: 10.8212\n",
            "Epoch 48/50\n",
            "1/1 [==============================] - 0s 10ms/step - loss: 10.3970\n",
            "Epoch 49/50\n",
            "1/1 [==============================] - 0s 13ms/step - loss: 13.8568\n",
            "Epoch 50/50\n",
            "1/1 [==============================] - 0s 15ms/step - loss: 18.9673\n"
          ]
        },
        {
          "output_type": "execute_result",
          "data": {
            "text/plain": [
              "<keras.callbacks.History at 0x7f339f425610>"
            ]
          },
          "metadata": {},
          "execution_count": 53
        }
      ]
    },
    {
      "cell_type": "code",
      "metadata": {
        "id": "_QlO3wjIxjGJ"
      },
      "source": [
        "import numpy as np"
      ],
      "execution_count": 57,
      "outputs": []
    },
    {
      "cell_type": "code",
      "metadata": {
        "id": "IM-UQ3sO1ahQ"
      },
      "source": [
        "input = np.array([187, 196, 210])"
      ],
      "execution_count": 83,
      "outputs": []
    },
    {
      "cell_type": "code",
      "metadata": {
        "colab": {
          "base_uri": "https://localhost:8080/"
        },
        "id": "w3bh5M9J1aj_",
        "outputId": "4a776ee1-5659-409f-b96e-713788d2b6df"
      },
      "source": [
        "input.shape"
      ],
      "execution_count": 86,
      "outputs": [
        {
          "output_type": "execute_result",
          "data": {
            "text/plain": [
              "(3,)"
            ]
          },
          "metadata": {},
          "execution_count": 86
        }
      ]
    },
    {
      "cell_type": "code",
      "metadata": {
        "colab": {
          "base_uri": "https://localhost:8080/"
        },
        "id": "gA9S8OCQ1aph",
        "outputId": "e88d4ef1-d632-41d3-b676-b4e28c250f0f"
      },
      "source": [
        "input.shape"
      ],
      "execution_count": 87,
      "outputs": [
        {
          "output_type": "execute_result",
          "data": {
            "text/plain": [
              "(3,)"
            ]
          },
          "metadata": {},
          "execution_count": 87
        }
      ]
    },
    {
      "cell_type": "code",
      "metadata": {
        "id": "rnW8dB7_4Bcy"
      },
      "source": [
        "input = numpy.reshape(input, (input.shape[0], 1))"
      ],
      "execution_count": 89,
      "outputs": []
    },
    {
      "cell_type": "code",
      "metadata": {
        "colab": {
          "base_uri": "https://localhost:8080/"
        },
        "id": "GiVps0WT49BT",
        "outputId": "1552a4e0-104c-4fed-b32e-2557c76985e6"
      },
      "source": [
        "input.shape"
      ],
      "execution_count": 92,
      "outputs": [
        {
          "output_type": "execute_result",
          "data": {
            "text/plain": [
              "(3, 1)"
            ]
          },
          "metadata": {},
          "execution_count": 92
        }
      ]
    },
    {
      "cell_type": "code",
      "metadata": {
        "id": "rprsxiNh49Fb"
      },
      "source": [
        "input = numpy.reshape(input, (input.shape[0], 1, input.shape[1]))\n"
      ],
      "execution_count": 98,
      "outputs": []
    },
    {
      "cell_type": "code",
      "metadata": {
        "id": "l5OcbUI55MBs"
      },
      "source": [
        "input = input.reshape((1, 3, 1))"
      ],
      "execution_count": 102,
      "outputs": []
    },
    {
      "cell_type": "code",
      "metadata": {
        "colab": {
          "base_uri": "https://localhost:8080/"
        },
        "id": "HBT5c_sf5MEO",
        "outputId": "02147411-a5b4-485c-cc47-bbdecdeb1245"
      },
      "source": [
        "input.shape"
      ],
      "execution_count": 103,
      "outputs": [
        {
          "output_type": "execute_result",
          "data": {
            "text/plain": [
              "(1, 3, 1)"
            ]
          },
          "metadata": {},
          "execution_count": 103
        }
      ]
    },
    {
      "cell_type": "code",
      "metadata": {
        "colab": {
          "base_uri": "https://localhost:8080/"
        },
        "id": "K85-UosA4yXU",
        "outputId": "5dd11116-3965-49a3-c731-3b96638622a4"
      },
      "source": [
        "model.predict(input)"
      ],
      "execution_count": 104,
      "outputs": [
        {
          "output_type": "execute_result",
          "data": {
            "text/plain": [
              "array([[229.0432]], dtype=float32)"
            ]
          },
          "metadata": {},
          "execution_count": 104
        }
      ]
    },
    {
      "cell_type": "code",
      "metadata": {
        "id": "z4nLFbSd4yZ_"
      },
      "source": [
        "# similary for last three number next predictions can be made "
      ],
      "execution_count": 105,
      "outputs": []
    },
    {
      "cell_type": "code",
      "metadata": {
        "colab": {
          "base_uri": "https://localhost:8080/"
        },
        "id": "GWo8MZx66BsL",
        "outputId": "d09c0142-089e-4cd9-c21e-a80947c87dc5"
      },
      "source": [
        "input = np.array([187, 196, 210])\n",
        "input = numpy.reshape(input, (input.shape[0], 1))\n",
        "input = numpy.reshape(input, (input.shape[0], 1, input.shape[1]))\n",
        "input = input.reshape((1, 3, 1))\n",
        "model.predict(input)\n"
      ],
      "execution_count": 106,
      "outputs": [
        {
          "output_type": "execute_result",
          "data": {
            "text/plain": [
              "array([[229.0432]], dtype=float32)"
            ]
          },
          "metadata": {},
          "execution_count": 106
        }
      ]
    },
    {
      "cell_type": "code",
      "metadata": {
        "colab": {
          "base_uri": "https://localhost:8080/"
        },
        "id": "7W-BUuVd6Bu8",
        "outputId": "8245407b-218e-40b3-d97a-984f43e73e52"
      },
      "source": [
        "input = np.array([196, 210, 229.0432])\n",
        "input = numpy.reshape(input, (input.shape[0], 1))\n",
        "input = numpy.reshape(input, (input.shape[0], 1, input.shape[1]))\n",
        "input = input.reshape((1, 3, 1))\n",
        "model.predict(input)"
      ],
      "execution_count": 107,
      "outputs": [
        {
          "output_type": "execute_result",
          "data": {
            "text/plain": [
              "array([[243.33766]], dtype=float32)"
            ]
          },
          "metadata": {},
          "execution_count": 107
        }
      ]
    },
    {
      "cell_type": "code",
      "metadata": {
        "colab": {
          "base_uri": "https://localhost:8080/"
        },
        "id": "Ol1tTwq86Bx0",
        "outputId": "1e4658bd-e1eb-4bef-d335-52cca01faf4b"
      },
      "source": [
        "input = np.array([210, 229.0432, 243.33766])\n",
        "input = numpy.reshape(input, (input.shape[0], 1))\n",
        "input = numpy.reshape(input, (input.shape[0], 1, input.shape[1]))\n",
        "input = input.reshape((1, 3, 1))\n",
        "model.predict(input)"
      ],
      "execution_count": 108,
      "outputs": [
        {
          "output_type": "execute_result",
          "data": {
            "text/plain": [
              "array([[261.71237]], dtype=float32)"
            ]
          },
          "metadata": {},
          "execution_count": 108
        }
      ]
    },
    {
      "cell_type": "code",
      "metadata": {
        "id": "9DyOeKZS6B0e"
      },
      "source": [
        "# we can use for loop to predict 10 series"
      ],
      "execution_count": 109,
      "outputs": []
    },
    {
      "cell_type": "code",
      "metadata": {
        "colab": {
          "base_uri": "https://localhost:8080/"
        },
        "id": "rhs_sZOew5JC",
        "outputId": "3167adaf-e5e2-4891-90ab-31bad58d0562"
      },
      "source": [
        "# demonstrate prediction for next 10 days\n",
        "x_input = np.array([229.0432, 243.33766, 261.71237])\n",
        "temp_input=list(x_input)\n",
        "lst_output=[]\n",
        "for i in range(10):\n",
        "    if(len(temp_input)>3):\n",
        "        x_input=np.array(temp_input[1:])\n",
        "        print(x_input)\n",
        "        print(\"{} day input {}\".format(i,x_input))\n",
        "        #print(x_input)\n",
        "        x_input = x_input.reshape((1, 3, 1))\n",
        "        #print(x_input)\n",
        "        yhat = model.predict(x_input, verbose=0)\n",
        "        print(\"{} day output {}\".format(i,yhat))\n",
        "        temp_input.append(yhat[0][0])\n",
        "        temp_input=temp_input[1:]\n",
        "        #print(temp_input)\n",
        "        lst_output.append(yhat[0][0])\n",
        "    else:\n",
        "        x_input = x_input.reshape((1, 3, 1))\n",
        "        yhat = model.predict(x_input, verbose=0)\n",
        "        print(yhat[0])\n",
        "        temp_input.append(yhat[0][0])\n",
        "        lst_output.append(yhat[0][0])\n",
        "    \n",
        "\n",
        "print(lst_output)"
      ],
      "execution_count": 111,
      "outputs": [
        {
          "output_type": "stream",
          "name": "stdout",
          "text": [
            "[282.5293]\n",
            "[243.33766    261.71237    282.52929688]\n",
            "1 day input [243.33766    261.71237    282.52929688]\n",
            "1 day output [[302.1276]]\n",
            "[261.71237    282.52929688 302.12759399]\n",
            "2 day input [261.71237    282.52929688 302.12759399]\n",
            "2 day output [[324.95398]]\n",
            "[282.5293  302.1276  324.95398]\n",
            "3 day input [282.5293  302.1276  324.95398]\n",
            "3 day output [[349.54874]]\n",
            "[302.1276  324.95398 349.54874]\n",
            "4 day input [302.1276  324.95398 349.54874]\n",
            "4 day output [[374.80045]]\n",
            "[324.95398 349.54874 374.80045]\n",
            "5 day input [324.95398 349.54874 374.80045]\n",
            "5 day output [[402.87234]]\n",
            "[349.54874 374.80045 402.87234]\n",
            "6 day input [349.54874 374.80045 402.87234]\n",
            "6 day output [[432.82492]]\n",
            "[374.80045 402.87234 432.82492]\n",
            "7 day input [374.80045 402.87234 432.82492]\n",
            "7 day output [[464.53723]]\n",
            "[402.87234 432.82492 464.53723]\n",
            "8 day input [402.87234 432.82492 464.53723]\n",
            "8 day output [[499.0629]]\n",
            "[432.82492 464.53723 499.0629 ]\n",
            "9 day input [432.82492 464.53723 499.0629 ]\n",
            "9 day output [[535.9243]]\n",
            "[282.5293, 302.1276, 324.95398, 349.54874, 374.80045, 402.87234, 432.82492, 464.53723, 499.0629, 535.9243]\n"
          ]
        }
      ]
    },
    {
      "cell_type": "code",
      "metadata": {
        "id": "1G0NG8WVw5Ln"
      },
      "source": [
        "# x_input = np.array([187, 196, 210])\n",
        "# temp_input=list(x_input)\n",
        "# lst_output=[]\n"
      ],
      "execution_count": 65,
      "outputs": []
    },
    {
      "cell_type": "code",
      "metadata": {
        "colab": {
          "base_uri": "https://localhost:8080/"
        },
        "id": "gSExf8g2yemn",
        "outputId": "d652e6ea-d6b4-4422-ece0-e047571a5003"
      },
      "source": [
        "# next 10 digit series\n",
        "print(lst_output)"
      ],
      "execution_count": 113,
      "outputs": [
        {
          "output_type": "stream",
          "name": "stdout",
          "text": [
            "[282.5293, 302.1276, 324.95398, 349.54874, 374.80045, 402.87234, 432.82492, 464.53723, 499.0629, 535.9243]\n"
          ]
        }
      ]
    },
    {
      "cell_type": "code",
      "metadata": {
        "id": "ofta4GezIlao"
      },
      "source": [
        ""
      ],
      "execution_count": null,
      "outputs": []
    }
  ]
}